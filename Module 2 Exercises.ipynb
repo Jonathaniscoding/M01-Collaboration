{
 "cells": [
  {
   "cell_type": "code",
   "execution_count": 4,
   "id": "216cd8f3",
   "metadata": {},
   "outputs": [
    {
     "name": "stdout",
     "output_type": "stream",
     "text": [
      "Just Right!\n"
     ]
    }
   ],
   "source": [
    "#Exercise 4.1 Secret Number\n",
    "\n",
    "Secret = 5\n",
    "Guess = 10\n",
    "\n",
    "if Guess < Secret:\n",
    "    print(\"Too Low\")\n",
    "elif Guess > Secret:\n",
    "    print(\"Too High\")\n",
    "else:\n",
    "    print(\"Just Right!\")"
   ]
  },
  {
   "cell_type": "code",
   "execution_count": 16,
   "id": "f106f755",
   "metadata": {},
   "outputs": [
    {
     "name": "stdout",
     "output_type": "stream",
     "text": [
      "Please input a fruit: pumpkin\n",
      "Is it Small?  False Is it Green?  False\n"
     ]
    }
   ],
   "source": [
    "#Exercise 4.2 Color and size\n",
    "\n",
    "Green = False\n",
    "Small = False\n",
    "\n",
    "User_input = input(\"Please input a fruit: \")\n",
    "\n",
    "if User_input == \"Watermelon\":\n",
    "    Green = True\n",
    "if User_input == \"Pea\":\n",
    "    Green = True\n",
    "    Small = True\n",
    "if User_input == \"Cherry\":\n",
    "    Small = True\n",
    "    \n",
    "    \n",
    "print( \"Is it Small? \", Small,\"Is it Green? \", Green)"
   ]
  },
  {
   "cell_type": "code",
   "execution_count": 28,
   "id": "8bea08e2",
   "metadata": {},
   "outputs": [
    {
     "name": "stdout",
     "output_type": "stream",
     "text": [
      "3\n",
      "2\n",
      "1\n",
      "0\n"
     ]
    }
   ],
   "source": [
    "#Exercise 6.1 for loop\n",
    "\n",
    "Number = [3, 2, 1, 0]\n",
    "\n",
    "for i in Number:\n",
    "    print(i)\n",
    "    i = i + 1"
   ]
  },
  {
   "cell_type": "code",
   "execution_count": 34,
   "id": "9b352efe",
   "metadata": {},
   "outputs": [
    {
     "name": "stdout",
     "output_type": "stream",
     "text": [
      "Too high 12\n",
      "Too high 11\n",
      "Too high 10\n",
      "Too high 9\n",
      "Too high 8\n",
      "Found it! The number is:  7\n"
     ]
    }
   ],
   "source": [
    "#Excercise 6.2 While Loop Guessing\n",
    "guess_me = 7\n",
    "numbers = 12\n",
    "\n",
    "\n",
    "while numbers != guess_me:\n",
    "    if numbers < guess_me:\n",
    "        print(\"Too Low\", numbers)\n",
    "        numbers = numbers + 1\n",
    "    if numbers > guess_me: \n",
    "        print('Too high', numbers)\n",
    "        numbers = numbers - 1\n",
    "else:\n",
    "    print(\"Found it! The number is: \", numbers)"
   ]
  },
  {
   "cell_type": "code",
   "execution_count": 36,
   "id": "b9d27b9e",
   "metadata": {},
   "outputs": [
    {
     "name": "stdout",
     "output_type": "stream",
     "text": [
      "too low\n",
      "too low\n",
      "too low\n",
      "too low\n",
      "Found it!\n"
     ]
    }
   ],
   "source": [
    "#Excercise 6.3 For Loop Guessing\n",
    "Second_Guess_Me = 5\n",
    "\n",
    "for i in range(1,10):\n",
    "    number = i\n",
    "    if number < Second_Guess_Me:\n",
    "        print(\"too low\")\n",
    "    if number > Second_Guess_Me:\n",
    "        print(\"Oops\")\n",
    "        break\n",
    "    if number == Second_Guess_Me:\n",
    "        print(\"Found it!\")\n",
    "        break\n",
    "    i = i + 1\n",
    "    \n"
   ]
  },
  {
   "cell_type": "code",
   "execution_count": null,
   "id": "c910b106",
   "metadata": {},
   "outputs": [],
   "source": []
  }
 ],
 "metadata": {
  "kernelspec": {
   "display_name": "Python 3 (ipykernel)",
   "language": "python",
   "name": "python3"
  },
  "language_info": {
   "codemirror_mode": {
    "name": "ipython",
    "version": 3
   },
   "file_extension": ".py",
   "mimetype": "text/x-python",
   "name": "python",
   "nbconvert_exporter": "python",
   "pygments_lexer": "ipython3",
   "version": "3.11.5"
  }
 },
 "nbformat": 4,
 "nbformat_minor": 5
}
